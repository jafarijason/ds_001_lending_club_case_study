{
 "cells": [
  {
   "cell_type": "markdown",
   "id": "ca1fa4cd-aae6-4c09-9a67-c2091b2034e3",
   "metadata": {},
   "source": [
    "# Lending Club Case Study"
   ]
  },
  {
   "cell_type": "markdown",
   "id": "22a015f7-f059-4ccb-a1fc-5992ce772d90",
   "metadata": {},
   "source": [
    "## Steps\n"
   ]
  },
  {
   "cell_type": "markdown",
   "id": "8300908d-8096-4b23-9a8b-5179792df1fb",
   "metadata": {},
   "source": [
    "- Step 1: Define the Problem and Set Objectives\n",
    "- Step 2: Load the Data and basic investigation\n",
    "- Step 3: Data Understanding\n",
    "- Step 4: Data Cleaning\n",
    "- Step 5: Handling Outliers and missing values\n",
    "- Step 6: Feature Engineering\n",
    "- Step 7: Univariate Analysis\n",
    "- Step 8: Bivariate Analysis\n",
    "- Step 9: Identify Important Driver Variables\n",
    "- Step 10: Summarize Insights and Recommendations\n",
    "- Step 11: Presentation and Documentation\n"
   ]
  },
  {
   "cell_type": "markdown",
   "id": "d98bb8a7-e568-4ee6-a17f-7117ea9b3269",
   "metadata": {},
   "source": [
    "### Step 1: Define the Problem and Set Objectives.\n",
    "1. **Objective**: Identify patterns in loan applicants that lead to loan defaults using Exploratory Data Analysis (EDA). This will help the company minimize risk by identifying high-risk loan applicants.\n",
    "2. **Business Problem**: The company faces two risks when deciding on a loan:\n",
    "    - If a reliable applicant is rejected, the company loses potential business.\n",
    "    - If a risky applicant is accepted, the company risks financial loss due to defaults.\n",
    "3. **Data Overview**: The provided loan dataset contains historical data on loans issued between 2007 and 2011, detailing whether the applicant defaulted or repaid the loan.\n"
   ]
  },
  {
   "cell_type": "markdown",
   "id": "21bf3a97-4791-4170-a7a8-482cda275dff",
   "metadata": {},
   "source": [
    "### Step 2: Load the Data and basic investigation\n"
   ]
  },
  {
   "cell_type": "code",
   "execution_count": 2,
   "id": "2903c9a5-bef5-4bfe-a867-f67b6c081f71",
   "metadata": {},
   "outputs": [],
   "source": [
    "import pandas as pd"
   ]
  },
  {
   "cell_type": "code",
   "execution_count": 5,
   "id": "bba7a898-e302-48a4-a3fe-cdf2cc58042a",
   "metadata": {},
   "outputs": [],
   "source": [
    "import warnings\n",
    "warnings.filterwarnings('ignore')"
   ]
  },
  {
   "cell_type": "markdown",
   "id": "cb686daf-d150-47d4-971b-650a3b5d52cb",
   "metadata": {},
   "source": [
    "#### 2.1 Load the Dataset"
   ]
  },
  {
   "cell_type": "code",
   "execution_count": 6,
   "id": "2f943d66-a0fe-4ac3-a685-979078ac4f01",
   "metadata": {},
   "outputs": [],
   "source": [
    "loan_data = pd.read_csv(\"loan.csv\")"
   ]
  },
  {
   "cell_type": "markdown",
   "id": "df79152e-ea01-423d-95d5-bf473091a77d",
   "metadata": {},
   "source": [
    "#### 2.2 Check Dataset Overview"
   ]
  },
  {
   "cell_type": "code",
   "execution_count": 7,
   "id": "62384bfb-6c29-46a1-a38b-e68827b2c0da",
   "metadata": {},
   "outputs": [
    {
     "name": "stdout",
     "output_type": "stream",
     "text": [
      "The history saving thread hit an unexpected error (OperationalError('attempt to write a readonly database')).History will not be written to the database.\n"
     ]
    },
    {
     "data": {
      "text/html": [
       "<div>\n",
       "<style scoped>\n",
       "    .dataframe tbody tr th:only-of-type {\n",
       "        vertical-align: middle;\n",
       "    }\n",
       "\n",
       "    .dataframe tbody tr th {\n",
       "        vertical-align: top;\n",
       "    }\n",
       "\n",
       "    .dataframe thead th {\n",
       "        text-align: right;\n",
       "    }\n",
       "</style>\n",
       "<table border=\"1\" class=\"dataframe\">\n",
       "  <thead>\n",
       "    <tr style=\"text-align: right;\">\n",
       "      <th></th>\n",
       "      <th>id</th>\n",
       "      <th>member_id</th>\n",
       "      <th>loan_amnt</th>\n",
       "      <th>funded_amnt</th>\n",
       "      <th>funded_amnt_inv</th>\n",
       "      <th>term</th>\n",
       "      <th>int_rate</th>\n",
       "      <th>installment</th>\n",
       "      <th>grade</th>\n",
       "      <th>sub_grade</th>\n",
       "      <th>...</th>\n",
       "      <th>num_tl_90g_dpd_24m</th>\n",
       "      <th>num_tl_op_past_12m</th>\n",
       "      <th>pct_tl_nvr_dlq</th>\n",
       "      <th>percent_bc_gt_75</th>\n",
       "      <th>pub_rec_bankruptcies</th>\n",
       "      <th>tax_liens</th>\n",
       "      <th>tot_hi_cred_lim</th>\n",
       "      <th>total_bal_ex_mort</th>\n",
       "      <th>total_bc_limit</th>\n",
       "      <th>total_il_high_credit_limit</th>\n",
       "    </tr>\n",
       "  </thead>\n",
       "  <tbody>\n",
       "    <tr>\n",
       "      <th>0</th>\n",
       "      <td>1077501</td>\n",
       "      <td>1296599</td>\n",
       "      <td>5000</td>\n",
       "      <td>5000</td>\n",
       "      <td>4975.0</td>\n",
       "      <td>36 months</td>\n",
       "      <td>10.65%</td>\n",
       "      <td>162.87</td>\n",
       "      <td>B</td>\n",
       "      <td>B2</td>\n",
       "      <td>...</td>\n",
       "      <td>NaN</td>\n",
       "      <td>NaN</td>\n",
       "      <td>NaN</td>\n",
       "      <td>NaN</td>\n",
       "      <td>0.0</td>\n",
       "      <td>0.0</td>\n",
       "      <td>NaN</td>\n",
       "      <td>NaN</td>\n",
       "      <td>NaN</td>\n",
       "      <td>NaN</td>\n",
       "    </tr>\n",
       "    <tr>\n",
       "      <th>1</th>\n",
       "      <td>1077430</td>\n",
       "      <td>1314167</td>\n",
       "      <td>2500</td>\n",
       "      <td>2500</td>\n",
       "      <td>2500.0</td>\n",
       "      <td>60 months</td>\n",
       "      <td>15.27%</td>\n",
       "      <td>59.83</td>\n",
       "      <td>C</td>\n",
       "      <td>C4</td>\n",
       "      <td>...</td>\n",
       "      <td>NaN</td>\n",
       "      <td>NaN</td>\n",
       "      <td>NaN</td>\n",
       "      <td>NaN</td>\n",
       "      <td>0.0</td>\n",
       "      <td>0.0</td>\n",
       "      <td>NaN</td>\n",
       "      <td>NaN</td>\n",
       "      <td>NaN</td>\n",
       "      <td>NaN</td>\n",
       "    </tr>\n",
       "    <tr>\n",
       "      <th>2</th>\n",
       "      <td>1077175</td>\n",
       "      <td>1313524</td>\n",
       "      <td>2400</td>\n",
       "      <td>2400</td>\n",
       "      <td>2400.0</td>\n",
       "      <td>36 months</td>\n",
       "      <td>15.96%</td>\n",
       "      <td>84.33</td>\n",
       "      <td>C</td>\n",
       "      <td>C5</td>\n",
       "      <td>...</td>\n",
       "      <td>NaN</td>\n",
       "      <td>NaN</td>\n",
       "      <td>NaN</td>\n",
       "      <td>NaN</td>\n",
       "      <td>0.0</td>\n",
       "      <td>0.0</td>\n",
       "      <td>NaN</td>\n",
       "      <td>NaN</td>\n",
       "      <td>NaN</td>\n",
       "      <td>NaN</td>\n",
       "    </tr>\n",
       "    <tr>\n",
       "      <th>3</th>\n",
       "      <td>1076863</td>\n",
       "      <td>1277178</td>\n",
       "      <td>10000</td>\n",
       "      <td>10000</td>\n",
       "      <td>10000.0</td>\n",
       "      <td>36 months</td>\n",
       "      <td>13.49%</td>\n",
       "      <td>339.31</td>\n",
       "      <td>C</td>\n",
       "      <td>C1</td>\n",
       "      <td>...</td>\n",
       "      <td>NaN</td>\n",
       "      <td>NaN</td>\n",
       "      <td>NaN</td>\n",
       "      <td>NaN</td>\n",
       "      <td>0.0</td>\n",
       "      <td>0.0</td>\n",
       "      <td>NaN</td>\n",
       "      <td>NaN</td>\n",
       "      <td>NaN</td>\n",
       "      <td>NaN</td>\n",
       "    </tr>\n",
       "    <tr>\n",
       "      <th>4</th>\n",
       "      <td>1075358</td>\n",
       "      <td>1311748</td>\n",
       "      <td>3000</td>\n",
       "      <td>3000</td>\n",
       "      <td>3000.0</td>\n",
       "      <td>60 months</td>\n",
       "      <td>12.69%</td>\n",
       "      <td>67.79</td>\n",
       "      <td>B</td>\n",
       "      <td>B5</td>\n",
       "      <td>...</td>\n",
       "      <td>NaN</td>\n",
       "      <td>NaN</td>\n",
       "      <td>NaN</td>\n",
       "      <td>NaN</td>\n",
       "      <td>0.0</td>\n",
       "      <td>0.0</td>\n",
       "      <td>NaN</td>\n",
       "      <td>NaN</td>\n",
       "      <td>NaN</td>\n",
       "      <td>NaN</td>\n",
       "    </tr>\n",
       "  </tbody>\n",
       "</table>\n",
       "<p>5 rows × 111 columns</p>\n",
       "</div>"
      ],
      "text/plain": [
       "        id  member_id  loan_amnt  funded_amnt  funded_amnt_inv        term  \\\n",
       "0  1077501    1296599       5000         5000           4975.0   36 months   \n",
       "1  1077430    1314167       2500         2500           2500.0   60 months   \n",
       "2  1077175    1313524       2400         2400           2400.0   36 months   \n",
       "3  1076863    1277178      10000        10000          10000.0   36 months   \n",
       "4  1075358    1311748       3000         3000           3000.0   60 months   \n",
       "\n",
       "  int_rate  installment grade sub_grade  ... num_tl_90g_dpd_24m  \\\n",
       "0   10.65%       162.87     B        B2  ...                NaN   \n",
       "1   15.27%        59.83     C        C4  ...                NaN   \n",
       "2   15.96%        84.33     C        C5  ...                NaN   \n",
       "3   13.49%       339.31     C        C1  ...                NaN   \n",
       "4   12.69%        67.79     B        B5  ...                NaN   \n",
       "\n",
       "  num_tl_op_past_12m pct_tl_nvr_dlq  percent_bc_gt_75 pub_rec_bankruptcies  \\\n",
       "0                NaN            NaN               NaN                  0.0   \n",
       "1                NaN            NaN               NaN                  0.0   \n",
       "2                NaN            NaN               NaN                  0.0   \n",
       "3                NaN            NaN               NaN                  0.0   \n",
       "4                NaN            NaN               NaN                  0.0   \n",
       "\n",
       "  tax_liens tot_hi_cred_lim total_bal_ex_mort total_bc_limit  \\\n",
       "0       0.0             NaN               NaN            NaN   \n",
       "1       0.0             NaN               NaN            NaN   \n",
       "2       0.0             NaN               NaN            NaN   \n",
       "3       0.0             NaN               NaN            NaN   \n",
       "4       0.0             NaN               NaN            NaN   \n",
       "\n",
       "  total_il_high_credit_limit  \n",
       "0                        NaN  \n",
       "1                        NaN  \n",
       "2                        NaN  \n",
       "3                        NaN  \n",
       "4                        NaN  \n",
       "\n",
       "[5 rows x 111 columns]"
      ]
     },
     "execution_count": 7,
     "metadata": {},
     "output_type": "execute_result"
    }
   ],
   "source": [
    "loan_data.head()"
   ]
  },
  {
   "cell_type": "code",
   "execution_count": 8,
   "id": "f4da66a9-8ff4-4243-9ccf-6934ff8ea275",
   "metadata": {},
   "outputs": [
    {
     "name": "stdout",
     "output_type": "stream",
     "text": [
      "<class 'pandas.core.frame.DataFrame'>\n",
      "RangeIndex: 39717 entries, 0 to 39716\n",
      "Columns: 111 entries, id to total_il_high_credit_limit\n",
      "dtypes: float64(74), int64(13), object(24)\n",
      "memory usage: 33.6+ MB\n"
     ]
    }
   ],
   "source": [
    "loan_data.info()"
   ]
  },
  {
   "cell_type": "code",
   "execution_count": 9,
   "id": "866145cc-70d7-469b-bc4b-8bcb09362e31",
   "metadata": {},
   "outputs": [
    {
     "data": {
      "text/html": [
       "<div>\n",
       "<style scoped>\n",
       "    .dataframe tbody tr th:only-of-type {\n",
       "        vertical-align: middle;\n",
       "    }\n",
       "\n",
       "    .dataframe tbody tr th {\n",
       "        vertical-align: top;\n",
       "    }\n",
       "\n",
       "    .dataframe thead th {\n",
       "        text-align: right;\n",
       "    }\n",
       "</style>\n",
       "<table border=\"1\" class=\"dataframe\">\n",
       "  <thead>\n",
       "    <tr style=\"text-align: right;\">\n",
       "      <th></th>\n",
       "      <th>id</th>\n",
       "      <th>member_id</th>\n",
       "      <th>loan_amnt</th>\n",
       "      <th>funded_amnt</th>\n",
       "      <th>funded_amnt_inv</th>\n",
       "      <th>installment</th>\n",
       "      <th>annual_inc</th>\n",
       "      <th>dti</th>\n",
       "      <th>delinq_2yrs</th>\n",
       "      <th>inq_last_6mths</th>\n",
       "      <th>...</th>\n",
       "      <th>num_tl_90g_dpd_24m</th>\n",
       "      <th>num_tl_op_past_12m</th>\n",
       "      <th>pct_tl_nvr_dlq</th>\n",
       "      <th>percent_bc_gt_75</th>\n",
       "      <th>pub_rec_bankruptcies</th>\n",
       "      <th>tax_liens</th>\n",
       "      <th>tot_hi_cred_lim</th>\n",
       "      <th>total_bal_ex_mort</th>\n",
       "      <th>total_bc_limit</th>\n",
       "      <th>total_il_high_credit_limit</th>\n",
       "    </tr>\n",
       "  </thead>\n",
       "  <tbody>\n",
       "    <tr>\n",
       "      <th>count</th>\n",
       "      <td>3.971700e+04</td>\n",
       "      <td>3.971700e+04</td>\n",
       "      <td>39717.000000</td>\n",
       "      <td>39717.000000</td>\n",
       "      <td>39717.000000</td>\n",
       "      <td>39717.000000</td>\n",
       "      <td>3.971700e+04</td>\n",
       "      <td>39717.000000</td>\n",
       "      <td>39717.000000</td>\n",
       "      <td>39717.000000</td>\n",
       "      <td>...</td>\n",
       "      <td>0.0</td>\n",
       "      <td>0.0</td>\n",
       "      <td>0.0</td>\n",
       "      <td>0.0</td>\n",
       "      <td>39020.000000</td>\n",
       "      <td>39678.0</td>\n",
       "      <td>0.0</td>\n",
       "      <td>0.0</td>\n",
       "      <td>0.0</td>\n",
       "      <td>0.0</td>\n",
       "    </tr>\n",
       "    <tr>\n",
       "      <th>mean</th>\n",
       "      <td>6.831319e+05</td>\n",
       "      <td>8.504636e+05</td>\n",
       "      <td>11219.443815</td>\n",
       "      <td>10947.713196</td>\n",
       "      <td>10397.448868</td>\n",
       "      <td>324.561922</td>\n",
       "      <td>6.896893e+04</td>\n",
       "      <td>13.315130</td>\n",
       "      <td>0.146512</td>\n",
       "      <td>0.869200</td>\n",
       "      <td>...</td>\n",
       "      <td>NaN</td>\n",
       "      <td>NaN</td>\n",
       "      <td>NaN</td>\n",
       "      <td>NaN</td>\n",
       "      <td>0.043260</td>\n",
       "      <td>0.0</td>\n",
       "      <td>NaN</td>\n",
       "      <td>NaN</td>\n",
       "      <td>NaN</td>\n",
       "      <td>NaN</td>\n",
       "    </tr>\n",
       "    <tr>\n",
       "      <th>std</th>\n",
       "      <td>2.106941e+05</td>\n",
       "      <td>2.656783e+05</td>\n",
       "      <td>7456.670694</td>\n",
       "      <td>7187.238670</td>\n",
       "      <td>7128.450439</td>\n",
       "      <td>208.874874</td>\n",
       "      <td>6.379377e+04</td>\n",
       "      <td>6.678594</td>\n",
       "      <td>0.491812</td>\n",
       "      <td>1.070219</td>\n",
       "      <td>...</td>\n",
       "      <td>NaN</td>\n",
       "      <td>NaN</td>\n",
       "      <td>NaN</td>\n",
       "      <td>NaN</td>\n",
       "      <td>0.204324</td>\n",
       "      <td>0.0</td>\n",
       "      <td>NaN</td>\n",
       "      <td>NaN</td>\n",
       "      <td>NaN</td>\n",
       "      <td>NaN</td>\n",
       "    </tr>\n",
       "    <tr>\n",
       "      <th>min</th>\n",
       "      <td>5.473400e+04</td>\n",
       "      <td>7.069900e+04</td>\n",
       "      <td>500.000000</td>\n",
       "      <td>500.000000</td>\n",
       "      <td>0.000000</td>\n",
       "      <td>15.690000</td>\n",
       "      <td>4.000000e+03</td>\n",
       "      <td>0.000000</td>\n",
       "      <td>0.000000</td>\n",
       "      <td>0.000000</td>\n",
       "      <td>...</td>\n",
       "      <td>NaN</td>\n",
       "      <td>NaN</td>\n",
       "      <td>NaN</td>\n",
       "      <td>NaN</td>\n",
       "      <td>0.000000</td>\n",
       "      <td>0.0</td>\n",
       "      <td>NaN</td>\n",
       "      <td>NaN</td>\n",
       "      <td>NaN</td>\n",
       "      <td>NaN</td>\n",
       "    </tr>\n",
       "    <tr>\n",
       "      <th>25%</th>\n",
       "      <td>5.162210e+05</td>\n",
       "      <td>6.667800e+05</td>\n",
       "      <td>5500.000000</td>\n",
       "      <td>5400.000000</td>\n",
       "      <td>5000.000000</td>\n",
       "      <td>167.020000</td>\n",
       "      <td>4.040400e+04</td>\n",
       "      <td>8.170000</td>\n",
       "      <td>0.000000</td>\n",
       "      <td>0.000000</td>\n",
       "      <td>...</td>\n",
       "      <td>NaN</td>\n",
       "      <td>NaN</td>\n",
       "      <td>NaN</td>\n",
       "      <td>NaN</td>\n",
       "      <td>0.000000</td>\n",
       "      <td>0.0</td>\n",
       "      <td>NaN</td>\n",
       "      <td>NaN</td>\n",
       "      <td>NaN</td>\n",
       "      <td>NaN</td>\n",
       "    </tr>\n",
       "    <tr>\n",
       "      <th>50%</th>\n",
       "      <td>6.656650e+05</td>\n",
       "      <td>8.508120e+05</td>\n",
       "      <td>10000.000000</td>\n",
       "      <td>9600.000000</td>\n",
       "      <td>8975.000000</td>\n",
       "      <td>280.220000</td>\n",
       "      <td>5.900000e+04</td>\n",
       "      <td>13.400000</td>\n",
       "      <td>0.000000</td>\n",
       "      <td>1.000000</td>\n",
       "      <td>...</td>\n",
       "      <td>NaN</td>\n",
       "      <td>NaN</td>\n",
       "      <td>NaN</td>\n",
       "      <td>NaN</td>\n",
       "      <td>0.000000</td>\n",
       "      <td>0.0</td>\n",
       "      <td>NaN</td>\n",
       "      <td>NaN</td>\n",
       "      <td>NaN</td>\n",
       "      <td>NaN</td>\n",
       "    </tr>\n",
       "    <tr>\n",
       "      <th>75%</th>\n",
       "      <td>8.377550e+05</td>\n",
       "      <td>1.047339e+06</td>\n",
       "      <td>15000.000000</td>\n",
       "      <td>15000.000000</td>\n",
       "      <td>14400.000000</td>\n",
       "      <td>430.780000</td>\n",
       "      <td>8.230000e+04</td>\n",
       "      <td>18.600000</td>\n",
       "      <td>0.000000</td>\n",
       "      <td>1.000000</td>\n",
       "      <td>...</td>\n",
       "      <td>NaN</td>\n",
       "      <td>NaN</td>\n",
       "      <td>NaN</td>\n",
       "      <td>NaN</td>\n",
       "      <td>0.000000</td>\n",
       "      <td>0.0</td>\n",
       "      <td>NaN</td>\n",
       "      <td>NaN</td>\n",
       "      <td>NaN</td>\n",
       "      <td>NaN</td>\n",
       "    </tr>\n",
       "    <tr>\n",
       "      <th>max</th>\n",
       "      <td>1.077501e+06</td>\n",
       "      <td>1.314167e+06</td>\n",
       "      <td>35000.000000</td>\n",
       "      <td>35000.000000</td>\n",
       "      <td>35000.000000</td>\n",
       "      <td>1305.190000</td>\n",
       "      <td>6.000000e+06</td>\n",
       "      <td>29.990000</td>\n",
       "      <td>11.000000</td>\n",
       "      <td>8.000000</td>\n",
       "      <td>...</td>\n",
       "      <td>NaN</td>\n",
       "      <td>NaN</td>\n",
       "      <td>NaN</td>\n",
       "      <td>NaN</td>\n",
       "      <td>2.000000</td>\n",
       "      <td>0.0</td>\n",
       "      <td>NaN</td>\n",
       "      <td>NaN</td>\n",
       "      <td>NaN</td>\n",
       "      <td>NaN</td>\n",
       "    </tr>\n",
       "  </tbody>\n",
       "</table>\n",
       "<p>8 rows × 87 columns</p>\n",
       "</div>"
      ],
      "text/plain": [
       "                 id     member_id     loan_amnt   funded_amnt  \\\n",
       "count  3.971700e+04  3.971700e+04  39717.000000  39717.000000   \n",
       "mean   6.831319e+05  8.504636e+05  11219.443815  10947.713196   \n",
       "std    2.106941e+05  2.656783e+05   7456.670694   7187.238670   \n",
       "min    5.473400e+04  7.069900e+04    500.000000    500.000000   \n",
       "25%    5.162210e+05  6.667800e+05   5500.000000   5400.000000   \n",
       "50%    6.656650e+05  8.508120e+05  10000.000000   9600.000000   \n",
       "75%    8.377550e+05  1.047339e+06  15000.000000  15000.000000   \n",
       "max    1.077501e+06  1.314167e+06  35000.000000  35000.000000   \n",
       "\n",
       "       funded_amnt_inv   installment    annual_inc           dti  \\\n",
       "count     39717.000000  39717.000000  3.971700e+04  39717.000000   \n",
       "mean      10397.448868    324.561922  6.896893e+04     13.315130   \n",
       "std        7128.450439    208.874874  6.379377e+04      6.678594   \n",
       "min           0.000000     15.690000  4.000000e+03      0.000000   \n",
       "25%        5000.000000    167.020000  4.040400e+04      8.170000   \n",
       "50%        8975.000000    280.220000  5.900000e+04     13.400000   \n",
       "75%       14400.000000    430.780000  8.230000e+04     18.600000   \n",
       "max       35000.000000   1305.190000  6.000000e+06     29.990000   \n",
       "\n",
       "        delinq_2yrs  inq_last_6mths  ...  num_tl_90g_dpd_24m  \\\n",
       "count  39717.000000    39717.000000  ...                 0.0   \n",
       "mean       0.146512        0.869200  ...                 NaN   \n",
       "std        0.491812        1.070219  ...                 NaN   \n",
       "min        0.000000        0.000000  ...                 NaN   \n",
       "25%        0.000000        0.000000  ...                 NaN   \n",
       "50%        0.000000        1.000000  ...                 NaN   \n",
       "75%        0.000000        1.000000  ...                 NaN   \n",
       "max       11.000000        8.000000  ...                 NaN   \n",
       "\n",
       "       num_tl_op_past_12m  pct_tl_nvr_dlq  percent_bc_gt_75  \\\n",
       "count                 0.0             0.0               0.0   \n",
       "mean                  NaN             NaN               NaN   \n",
       "std                   NaN             NaN               NaN   \n",
       "min                   NaN             NaN               NaN   \n",
       "25%                   NaN             NaN               NaN   \n",
       "50%                   NaN             NaN               NaN   \n",
       "75%                   NaN             NaN               NaN   \n",
       "max                   NaN             NaN               NaN   \n",
       "\n",
       "       pub_rec_bankruptcies  tax_liens  tot_hi_cred_lim  total_bal_ex_mort  \\\n",
       "count          39020.000000    39678.0              0.0                0.0   \n",
       "mean               0.043260        0.0              NaN                NaN   \n",
       "std                0.204324        0.0              NaN                NaN   \n",
       "min                0.000000        0.0              NaN                NaN   \n",
       "25%                0.000000        0.0              NaN                NaN   \n",
       "50%                0.000000        0.0              NaN                NaN   \n",
       "75%                0.000000        0.0              NaN                NaN   \n",
       "max                2.000000        0.0              NaN                NaN   \n",
       "\n",
       "       total_bc_limit  total_il_high_credit_limit  \n",
       "count             0.0                         0.0  \n",
       "mean              NaN                         NaN  \n",
       "std               NaN                         NaN  \n",
       "min               NaN                         NaN  \n",
       "25%               NaN                         NaN  \n",
       "50%               NaN                         NaN  \n",
       "75%               NaN                         NaN  \n",
       "max               NaN                         NaN  \n",
       "\n",
       "[8 rows x 87 columns]"
      ]
     },
     "execution_count": 9,
     "metadata": {},
     "output_type": "execute_result"
    }
   ],
   "source": [
    "loan_data.describe()"
   ]
  },
  {
   "cell_type": "markdown",
   "id": "7a775c5d-06c6-4f4a-86f3-38bca4115984",
   "metadata": {},
   "source": [
    "#### Observations from the Data Loading:\n",
    "1. **Data Structure**:\n",
    "   - The dataset contains 39,717 rows and 111 columns.\n",
    "   - Data types include `float64` (74 columns), `int64` (13 columns), and `object` (24 columns).\n",
    "\n",
    "\n",
    "2. **Missing Data**:\n",
    "    - Several columns have missing values, as shown by the `count` in the summary statistics.\n",
    "    - Some columns like `num_tl_op_past_12m`, `pct_tl_nvr_dlq`, and `percent_bc_gt_75` have no valid data at all.\n",
    "    - Columns with extensive missing values might be dropped or imputed, depending on their relevance.\n",
    "\n",
    "3. **Key Numerical Statistics**:\n",
    "    - For columns like `loan_amnt`, `annual_inc`, and `installment`, the summary statistics provide insights into their distributions (e.g., the mean loan amount is approximately 9,234, with a maximum of 35,000).\n",
    "  \n",
    "      \n",
    "4. **Potential Data Quality Issues**:\n",
    "    - Some columns (like `int_rate`) are stored as strings and may require cleaning before analysis (e.g., converting percentages to numerical values)."
   ]
  },
  {
   "cell_type": "markdown",
   "id": "a7a42891-0807-440b-92e2-5a2b4fd0f807",
   "metadata": {},
   "source": [
    "### Step 3: Data Understanding"
   ]
  },
  {
   "cell_type": "markdown",
   "id": "b0a83869-7466-4e34-94b8-da6456d3c32c",
   "metadata": {},
   "source": [
    "#### 3.1 Inspect Column Types and Missing Values\n",
    "- Identify which columns have missing data and which need data type conversions (e.g., percentages or categorical data)."
   ]
  },
  {
   "cell_type": "code",
   "execution_count": 24,
   "id": "af82c4c5-1088-44a6-aef7-effe8f352458",
   "metadata": {},
   "outputs": [],
   "source": [
    "# Check for missing values across the dataset\n",
    "missing_data = loan_data.isnull().sum().sort_values(ascending=False)"
   ]
  },
  {
   "cell_type": "code",
   "execution_count": 25,
   "id": "cf1424f1-36c3-417b-9a8b-024c683f41b0",
   "metadata": {},
   "outputs": [
    {
     "data": {
      "text/plain": [
       "verification_status_joint    39717\n",
       "annual_inc_joint             39717\n",
       "mo_sin_old_rev_tl_op         39717\n",
       "mo_sin_old_il_acct           39717\n",
       "bc_util                      39717\n",
       "bc_open_to_buy               39717\n",
       "avg_cur_bal                  39717\n",
       "acc_open_past_24mths         39717\n",
       "inq_last_12m                 39717\n",
       "total_cu_tl                  39717\n",
       "inq_fi                       39717\n",
       "total_rev_hi_lim             39717\n",
       "all_util                     39717\n",
       "max_bal_bc                   39717\n",
       "open_rv_24m                  39717\n",
       "open_rv_12m                  39717\n",
       "il_util                      39717\n",
       "total_bal_il                 39717\n",
       "mths_since_rcnt_il           39717\n",
       "open_il_24m                  39717\n",
       "dtype: int64"
      ]
     },
     "execution_count": 25,
     "metadata": {},
     "output_type": "execute_result"
    }
   ],
   "source": [
    "missing_data.head(20)"
   ]
  },
  {
   "cell_type": "code",
   "execution_count": 22,
   "id": "1680b9a1-61ec-4635-8652-25f3d18131f3",
   "metadata": {},
   "outputs": [
    {
     "name": "stdout",
     "output_type": "stream",
     "text": [
      "<class 'pandas.core.series.Series'>\n",
      "Index: 111 entries, id to total_il_high_credit_limit\n",
      "Series name: None\n",
      "Non-Null Count  Dtype\n",
      "--------------  -----\n",
      "111 non-null    int64\n",
      "dtypes: int64(1)\n",
      "memory usage: 5.8+ KB\n"
     ]
    }
   ],
   "source": [
    "missing_data.info()"
   ]
  },
  {
   "cell_type": "markdown",
   "id": "2dda4028-c74c-4a41-958c-c2dbf0448198",
   "metadata": {},
   "source": [
    "- Several columns have extensive missing values. For example, columns like `verification_status_joint`, `annual_inc_joint`, and `mo_sin_old_rev_tl_op` have no valid data in the dataset (all values are missing).\n",
    "- These columns may need to be removed or further explored to decide if they are relevant for analysis."
   ]
  },
  {
   "cell_type": "markdown",
   "id": "b4d8edb4-e2eb-42fe-9d32-2d1709d8491c",
   "metadata": {},
   "source": [
    "#### 3.2 Data Types(Numerical vs Categorical Columns)\n",
    "\n"
   ]
  },
  {
   "cell_type": "code",
   "execution_count": 26,
   "id": "afd35bb2-345c-42fe-89dd-5b56d0835305",
   "metadata": {},
   "outputs": [],
   "source": [
    "numerical_cols = loan_data.select_dtypes(include=['float64', 'int64']).columns"
   ]
  },
  {
   "cell_type": "code",
   "execution_count": 27,
   "id": "d1da88af-9f36-4f0f-b5c5-533a43134159",
   "metadata": {},
   "outputs": [
    {
     "data": {
      "text/plain": [
       "Index(['id', 'member_id', 'loan_amnt', 'funded_amnt', 'funded_amnt_inv',\n",
       "       'installment', 'annual_inc', 'dti', 'delinq_2yrs', 'inq_last_6mths',\n",
       "       'mths_since_last_delinq', 'mths_since_last_record', 'open_acc',\n",
       "       'pub_rec', 'revol_bal', 'total_acc', 'out_prncp', 'out_prncp_inv',\n",
       "       'total_pymnt', 'total_pymnt_inv', 'total_rec_prncp', 'total_rec_int',\n",
       "       'total_rec_late_fee', 'recoveries', 'collection_recovery_fee',\n",
       "       'last_pymnt_amnt', 'collections_12_mths_ex_med',\n",
       "       'mths_since_last_major_derog', 'policy_code', 'annual_inc_joint',\n",
       "       'dti_joint', 'verification_status_joint', 'acc_now_delinq',\n",
       "       'tot_coll_amt', 'tot_cur_bal', 'open_acc_6m', 'open_il_6m',\n",
       "       'open_il_12m', 'open_il_24m', 'mths_since_rcnt_il', 'total_bal_il',\n",
       "       'il_util', 'open_rv_12m', 'open_rv_24m', 'max_bal_bc', 'all_util',\n",
       "       'total_rev_hi_lim', 'inq_fi', 'total_cu_tl', 'inq_last_12m',\n",
       "       'acc_open_past_24mths', 'avg_cur_bal', 'bc_open_to_buy', 'bc_util',\n",
       "       'chargeoff_within_12_mths', 'delinq_amnt', 'mo_sin_old_il_acct',\n",
       "       'mo_sin_old_rev_tl_op', 'mo_sin_rcnt_rev_tl_op', 'mo_sin_rcnt_tl',\n",
       "       'mort_acc', 'mths_since_recent_bc', 'mths_since_recent_bc_dlq',\n",
       "       'mths_since_recent_inq', 'mths_since_recent_revol_delinq',\n",
       "       'num_accts_ever_120_pd', 'num_actv_bc_tl', 'num_actv_rev_tl',\n",
       "       'num_bc_sats', 'num_bc_tl', 'num_il_tl', 'num_op_rev_tl',\n",
       "       'num_rev_accts', 'num_rev_tl_bal_gt_0', 'num_sats', 'num_tl_120dpd_2m',\n",
       "       'num_tl_30dpd', 'num_tl_90g_dpd_24m', 'num_tl_op_past_12m',\n",
       "       'pct_tl_nvr_dlq', 'percent_bc_gt_75', 'pub_rec_bankruptcies',\n",
       "       'tax_liens', 'tot_hi_cred_lim', 'total_bal_ex_mort', 'total_bc_limit',\n",
       "       'total_il_high_credit_limit'],\n",
       "      dtype='object')"
      ]
     },
     "execution_count": 27,
     "metadata": {},
     "output_type": "execute_result"
    }
   ],
   "source": [
    "numerical_cols"
   ]
  },
  {
   "cell_type": "code",
   "execution_count": 31,
   "id": "ac7700df-4724-41e4-b966-33b7e773c2ea",
   "metadata": {},
   "outputs": [
    {
     "data": {
      "text/plain": [
       "87"
      ]
     },
     "execution_count": 31,
     "metadata": {},
     "output_type": "execute_result"
    }
   ],
   "source": [
    "len(numerical_cols)"
   ]
  },
  {
   "cell_type": "code",
   "execution_count": 28,
   "id": "6534b4ca-3b8a-400e-91b1-047fb76b6d07",
   "metadata": {},
   "outputs": [],
   "source": [
    "categorical_cols = loan_data.select_dtypes(include=['object']).columns"
   ]
  },
  {
   "cell_type": "code",
   "execution_count": 29,
   "id": "a3f6df04-4e84-4772-abbf-2cb50bda1fb4",
   "metadata": {},
   "outputs": [
    {
     "data": {
      "text/plain": [
       "Index(['term', 'int_rate', 'grade', 'sub_grade', 'emp_title', 'emp_length',\n",
       "       'home_ownership', 'verification_status', 'issue_d', 'loan_status',\n",
       "       'pymnt_plan', 'url', 'desc', 'purpose', 'title', 'zip_code',\n",
       "       'addr_state', 'earliest_cr_line', 'revol_util', 'initial_list_status',\n",
       "       'last_pymnt_d', 'next_pymnt_d', 'last_credit_pull_d',\n",
       "       'application_type'],\n",
       "      dtype='object')"
      ]
     },
     "execution_count": 29,
     "metadata": {},
     "output_type": "execute_result"
    }
   ],
   "source": [
    "categorical_cols"
   ]
  },
  {
   "cell_type": "code",
   "execution_count": 32,
   "id": "fe657a6c-53d5-4a58-a3f3-3369b4c12ab8",
   "metadata": {},
   "outputs": [
    {
     "data": {
      "text/plain": [
       "24"
      ]
     },
     "execution_count": 32,
     "metadata": {},
     "output_type": "execute_result"
    }
   ],
   "source": [
    "len(categorical_cols)"
   ]
  },
  {
   "cell_type": "markdown",
   "id": "4be07a75-7936-45d8-9547-698c741cff02",
   "metadata": {},
   "source": [
    "- There are 87 numerical columns and 24 categorical columns.\n",
    "- The numerical columns include key features like `loan_amnt`, `funded_amnt`, `annual_inc`, and `total_pymnt`.\n",
    "- The categorical columns include `term`, `int_rate`, `grade`, `loan_status`, and `home_ownership`, which will be critical for segmenting the data."
   ]
  },
  {
   "cell_type": "markdown",
   "id": "a5c99584-0cd6-4c2a-aadc-df7f57423624",
   "metadata": {},
   "source": [
    "#### Key Columns:"
   ]
  },
  {
   "cell_type": "markdown",
   "id": "ecbe15fa-efc5-4d5c-90fd-7e208ae496d8",
   "metadata": {},
   "source": [
    "- Loan Amount:"
   ]
  },
  {
   "cell_type": "code",
   "execution_count": 34,
   "id": "34cfeef2-1779-4831-ae07-8058c8db26ef",
   "metadata": {},
   "outputs": [
    {
     "data": {
      "text/plain": [
       "count    39717.000000\n",
       "mean     11219.443815\n",
       "std       7456.670694\n",
       "min        500.000000\n",
       "25%       5500.000000\n",
       "50%      10000.000000\n",
       "75%      15000.000000\n",
       "max      35000.000000\n",
       "Name: loan_amnt, dtype: float64"
      ]
     },
     "execution_count": 34,
     "metadata": {},
     "output_type": "execute_result"
    }
   ],
   "source": [
    "loan_amnt_stats = loan_data['loan_amnt'].describe() \n",
    "loan_amnt_stats"
   ]
  },
  {
   "cell_type": "markdown",
   "id": "d61feb93-5ddf-4951-9e3f-279d1194fe6e",
   "metadata": {},
   "source": [
    "    - The loan amounts range from 500 to 35,000.\n",
    "    - The average loan amount is around 11,219, with a median of 10,000."
   ]
  },
  {
   "cell_type": "markdown",
   "id": "908e3559-803f-4ee4-94e7-87676f502374",
   "metadata": {},
   "source": [
    "- Interest Rates:"
   ]
  },
  {
   "cell_type": "code",
   "execution_count": 35,
   "id": "fce8dd78-d512-45d9-927a-b953313b474d",
   "metadata": {},
   "outputs": [
    {
     "data": {
      "text/plain": [
       "array(['10.65%', '15.27%', '15.96%', '13.49%', '12.69%', '7.90%',\n",
       "       '18.64%', '21.28%', '14.65%', '9.91%', '16.29%', '6.03%', '11.71%',\n",
       "       '12.42%', '14.27%', '16.77%', '7.51%', '8.90%', '18.25%', '6.62%',\n",
       "       '19.91%', '17.27%', '17.58%', '21.67%', '19.42%', '22.06%',\n",
       "       '20.89%', '20.30%', '23.91%', '19.03%', '23.52%', '23.13%',\n",
       "       '22.74%', '22.35%', '24.11%', '6.00%', '22.11%', '7.49%', '11.99%',\n",
       "       '5.99%', '10.99%', '9.99%', '18.79%', '11.49%', '8.49%', '15.99%',\n",
       "       '16.49%', '6.99%', '12.99%', '15.23%', '14.79%', '5.42%', '10.59%',\n",
       "       '17.49%', '15.62%', '21.36%', '19.29%', '13.99%', '18.39%',\n",
       "       '16.89%', '17.99%', '20.62%', '20.99%', '22.85%', '19.69%',\n",
       "       '20.25%', '23.22%', '21.74%', '22.48%', '23.59%', '12.62%',\n",
       "       '18.07%', '11.63%', '7.91%', '7.42%', '11.14%', '20.20%', '12.12%',\n",
       "       '19.39%', '16.11%', '17.54%', '22.64%', '13.84%', '16.59%',\n",
       "       '17.19%', '12.87%', '20.69%', '9.67%', '21.82%', '19.79%',\n",
       "       '18.49%', '22.94%', '24.59%', '24.40%', '21.48%', '14.82%',\n",
       "       '14.17%', '7.29%', '17.88%', '20.11%', '16.02%', '17.51%',\n",
       "       '13.43%', '14.91%', '13.06%', '15.28%', '15.65%', '17.14%',\n",
       "       '11.11%', '10.37%', '16.40%', '7.66%', '10.00%', '18.62%',\n",
       "       '10.74%', '5.79%', '6.92%', '9.63%', '14.54%', '12.68%', '19.36%',\n",
       "       '13.80%', '18.99%', '21.59%', '20.85%', '21.22%', '19.74%',\n",
       "       '20.48%', '6.91%', '12.23%', '12.61%', '10.36%', '6.17%', '6.54%',\n",
       "       '9.25%', '16.69%', '15.95%', '8.88%', '13.35%', '9.62%', '16.32%',\n",
       "       '12.98%', '14.83%', '13.72%', '14.09%', '14.46%', '20.03%',\n",
       "       '17.80%', '15.20%', '15.57%', '18.54%', '19.66%', '17.06%',\n",
       "       '18.17%', '17.43%', '20.40%', '20.77%', '18.91%', '21.14%',\n",
       "       '17.44%', '13.23%', '7.88%', '11.12%', '13.61%', '10.38%',\n",
       "       '17.56%', '17.93%', '15.58%', '13.98%', '14.84%', '15.21%',\n",
       "       '6.76%', '6.39%', '11.86%', '7.14%', '14.35%', '16.82%', '10.75%',\n",
       "       '14.72%', '16.45%', '18.67%', '20.53%', '19.41%', '20.16%',\n",
       "       '21.27%', '18.30%', '19.04%', '20.90%', '21.64%', '12.73%',\n",
       "       '10.25%', '13.11%', '10.62%', '13.48%', '14.59%', '16.07%',\n",
       "       '15.70%', '9.88%', '11.36%', '15.33%', '13.85%', '14.96%',\n",
       "       '14.22%', '7.74%', '13.22%', '13.57%', '8.59%', '17.04%', '14.61%',\n",
       "       '8.94%', '12.18%', '11.83%', '11.48%', '16.35%', '13.92%',\n",
       "       '15.31%', '14.26%', '19.13%', '12.53%', '16.70%', '16.00%',\n",
       "       '17.39%', '18.09%', '7.40%', '18.43%', '17.74%', '7.05%', '20.52%',\n",
       "       '20.86%', '19.47%', '18.78%', '21.21%', '19.82%', '20.17%',\n",
       "       '13.16%', '8.00%', '13.47%', '12.21%', '16.63%', '9.32%', '12.84%',\n",
       "       '11.26%', '15.68%', '15.37%', '10.95%', '11.89%', '14.11%',\n",
       "       '13.79%', '7.68%', '11.58%', '7.37%', '16.95%', '15.05%', '18.53%',\n",
       "       '14.74%', '14.42%', '18.21%', '17.26%', '18.84%', '17.90%',\n",
       "       '19.16%', '13.67%', '9.38%', '12.72%', '13.36%', '11.46%',\n",
       "       '10.51%', '9.07%', '13.04%', '11.78%', '12.41%', '10.83%',\n",
       "       '12.09%', '17.46%', '14.30%', '17.15%', '15.25%', '10.20%',\n",
       "       '15.88%', '14.93%', '16.20%', '18.72%', '14.62%', '8.32%',\n",
       "       '14.12%', '10.96%', '10.33%', '10.01%', '12.86%', '11.28%',\n",
       "       '11.59%', '8.63%', '12.54%', '12.22%', '11.91%', '15.38%',\n",
       "       '16.96%', '13.17%', '9.70%', '16.33%', '14.75%', '15.07%',\n",
       "       '16.01%', '10.71%', '10.64%', '9.76%', '11.34%', '10.39%',\n",
       "       '13.87%', '11.03%', '11.66%', '13.24%', '10.08%', '9.45%',\n",
       "       '13.55%', '12.29%', '11.97%', '12.92%', '15.45%', '14.50%',\n",
       "       '14.18%', '15.13%', '16.08%', '15.76%', '17.03%', '17.34%',\n",
       "       '16.71%', '9.83%', '13.62%', '10.46%', '9.51%', '9.20%', '13.30%',\n",
       "       '10.78%', '7.75%', '8.38%', '12.36%', '12.67%', '11.72%', '13.93%',\n",
       "       '8.07%', '7.43%', '12.04%', '14.25%', '14.88%', '11.41%', '11.09%',\n",
       "       '10.14%', '16.15%', '15.83%', '7.12%', '18.36%', '9.64%', '9.96%',\n",
       "       '11.22%', '9.01%', '9.33%', '11.54%', '12.17%', '12.80%', '14.38%',\n",
       "       '13.75%', '14.70%', '12.49%', '14.07%', '10.91%', '13.12%',\n",
       "       '10.28%', '8.70%', '14.67%', '15.01%'], dtype=object)"
      ]
     },
     "execution_count": 35,
     "metadata": {},
     "output_type": "execute_result"
    }
   ],
   "source": [
    "int_rate_unique = loan_data['int_rate'].unique()\n",
    "int_rate_unique"
   ]
  },
  {
   "cell_type": "markdown",
   "id": "891d123e-a569-4040-ae2e-131cc50273be",
   "metadata": {},
   "source": [
    "    - Interest rates are stored as percentages (e.g., '10.65%', '15.27%'). These will need to be converted to numeric for analysis."
   ]
  },
  {
   "cell_type": "markdown",
   "id": "d81ba670-d7a2-4634-8d0e-02719352b80c",
   "metadata": {},
   "source": [
    "- Loan Status:"
   ]
  },
  {
   "cell_type": "code",
   "execution_count": 37,
   "id": "7b3fbf2a-2e49-4a71-964a-c9748926d375",
   "metadata": {},
   "outputs": [
    {
     "data": {
      "text/plain": [
       "loan_status\n",
       "Fully Paid     32950\n",
       "Charged Off     5627\n",
       "Current         1140\n",
       "Name: count, dtype: int64"
      ]
     },
     "execution_count": 37,
     "metadata": {},
     "output_type": "execute_result"
    }
   ],
   "source": [
    "loan_status_counts = loan_data['loan_status'].value_counts()\n",
    "loan_status_counts"
   ]
  },
  {
   "cell_type": "markdown",
   "id": "08db4c5a-a3a5-4485-be18-0969253e9950",
   "metadata": {},
   "source": [
    "    - Most loans in the dataset are classified as Fully Paid (32,950), while 5,627 loans were Charged Off (defaults), and 1,140 are still Current.\n",
    "    - This indicates the dataset is imbalanced, with a majority of loans being fully paid or the company approved right customers."
   ]
  },
  {
   "cell_type": "markdown",
   "id": "a8a09599-9ed1-48ae-8db2-bfbdc82bc72f",
   "metadata": {},
   "source": [
    "- Loan Grades:"
   ]
  },
  {
   "cell_type": "code",
   "execution_count": 38,
   "id": "cf87f14e-54aa-4f87-93c4-1460a54963e0",
   "metadata": {},
   "outputs": [
    {
     "data": {
      "text/plain": [
       "grade\n",
       "B    12020\n",
       "A    10085\n",
       "C     8098\n",
       "D     5307\n",
       "E     2842\n",
       "F     1049\n",
       "G      316\n",
       "Name: count, dtype: int64"
      ]
     },
     "execution_count": 38,
     "metadata": {},
     "output_type": "execute_result"
    }
   ],
   "source": [
    "grade_counts = loan_data['grade'].value_counts()\n",
    "grade_counts"
   ]
  },
  {
   "cell_type": "markdown",
   "id": "c053cc6c-287f-4056-8be9-b72299b84772",
   "metadata": {},
   "source": [
    "    - Loans are assigned grades from A to G. Most loans fall into the B and A categories, while fewer loans are assigned lower grades like F and G.\n",
    "    - Loan grades will likely be a significant factor in determining default risk."
   ]
  },
  {
   "cell_type": "markdown",
   "id": "97f33a45-bfde-4453-b6e8-3fb659c311a1",
   "metadata": {},
   "source": [
    "##### There are several other key columns that could provide valuable insights into loan defaults\n",
    "\n",
    "- `dti` (Debt-to-Income Ratio):\n",
    "    - This represents the ratio of the borrower's monthly debt payments to their monthly income. A high DTI ratio might be an indicator of a higher risk of default.\n",
    "- `annual_inc` (Annual Income):\n",
    "    - Understanding how a borrower’s income impacts their ability to repay loans could provide insights into default risk.\n",
    "- `emp_length` (Employment Length):\n",
    "    - Longer employment may suggest a more stable financial situation, reducing the likelihood of default.\n",
    "- `home_ownership`:\n",
    "    - The type of home ownership (e.g., Rent, Mortgage, Own) may influence the borrower’s financial stability.\n",
    "- `purpose`:\n",
    "    - The purpose of the loan (e.g., debt consolidation, credit card, home improvement) may affect default risk. Loans for riskier purposes like debt consolidation might have higher default rates.\n",
    "- `revol_util` (Revolving Line Utilization Rate):\n",
    "    - This measures the borrower’s credit card utilization rate. Higher utilization may indicate higher financial stress, increasing default risk.\n",
    "- `earliest_cr_line` (Earliest Credit Line):\n",
    "    - This represents the date the borrower’s oldest credit line was opened. A longer credit history may indicate better creditworthiness.\n",
    "- `installment`:\n",
    "    - This is the monthly payment amount. Higher monthly installments relative to income could increase the risk of default.\n",
    "- `delinq_2yrs`:\n",
    "    - The number of times the borrower has been delinquent in the past two years. A history of delinquencies could be a strong predictor of default.\n"
   ]
  },
  {
   "cell_type": "markdown",
   "id": "c774f215-c2d6-4d7a-ae04-a2eea59a5125",
   "metadata": {},
   "source": [
    "### Step 4: Data Cleaning"
   ]
  },
  {
   "cell_type": "markdown",
   "id": "86406f21-446e-4bcc-b4f1-f63606c49f56",
   "metadata": {},
   "source": [
    "#### 4.1 Handle Missing Data:\n",
    "- We can either drop columns with excessive missing data or impute values where appropriate (e.g., filling missing values with mean/median).\n",
    "- Drop columns that have no meaningful data and handle those with some missing values by imputation."
   ]
  },
  {
   "cell_type": "code",
   "execution_count": 52,
   "id": "b92eb1b5-6c5e-4179-bee6-c8ad3dde7e87",
   "metadata": {},
   "outputs": [
    {
     "data": {
      "text/plain": [
       "((39717, 54), (39717, 111))"
      ]
     },
     "execution_count": 52,
     "metadata": {},
     "output_type": "execute_result"
    }
   ],
   "source": [
    "# Drop columns with excessive missing values\n",
    "# We can set a threshold for how many missing values to tolerate (e.g., drop columns with over 50% missing)\n",
    "loan_data_clean1 = loan_data.dropna(thresh=len(loan_data) * 0.5, axis=1)\n",
    "loan_data_clean1.shape, loan_data.shape"
   ]
  },
  {
   "cell_type": "code",
   "execution_count": 56,
   "id": "de9c7bad-7249-40aa-abab-065c3aeea006",
   "metadata": {},
   "outputs": [
    {
     "data": {
      "text/plain": [
       "57"
      ]
     },
     "execution_count": 56,
     "metadata": {},
     "output_type": "execute_result"
    }
   ],
   "source": [
    "number_of_droped_columns_4_1_1 = loan_data.shape[1] - loan_data_clean1.shape[1]\n",
    "number_of_droped_columns_4_1_1"
   ]
  },
  {
   "cell_type": "code",
   "execution_count": 62,
   "id": "c0de7fd4-d937-4099-adb5-aaabb7e26f38",
   "metadata": {},
   "outputs": [
    {
     "data": {
      "text/plain": [
       "((39717, 50), (39717, 54))"
      ]
     },
     "execution_count": 62,
     "metadata": {},
     "output_type": "execute_result"
    }
   ],
   "source": [
    "loan_data_clean2 = loan_data_clean1.drop(columns=['id', 'member_id', 'url', 'desc'])\n",
    "loan_data_clean2.shape, loan_data_clean1.shape"
   ]
  },
  {
   "cell_type": "code",
   "execution_count": 63,
   "id": "f21d8a83-1fb9-42ab-ab5b-4350edcca3bf",
   "metadata": {},
   "outputs": [
    {
     "data": {
      "text/plain": [
       "4"
      ]
     },
     "execution_count": 63,
     "metadata": {},
     "output_type": "execute_result"
    }
   ],
   "source": [
    "number_of_droped_columns_4_1_2 = loan_data_clean1.shape[1] - loan_data_clean2.shape[1]\n",
    "number_of_droped_columns_4_1_2"
   ]
  },
  {
   "cell_type": "code",
   "execution_count": 73,
   "id": "a0c1e0be-c2ef-4bce-8bbb-390ac35b36b3",
   "metadata": {},
   "outputs": [],
   "source": [
    "loan_data_clean = loan_data_clean2"
   ]
  },
  {
   "cell_type": "code",
   "execution_count": 74,
   "id": "3d21de29-0e8c-4c24-a611-46d72efdc902",
   "metadata": {},
   "outputs": [],
   "source": [
    "numeric_cols = loan_data_clean.select_dtypes(include=['float64', 'int64']).columns\n",
    "loan_data_clean[numeric_cols] = loan_data_clean[numeric_cols].fillna(loan_data_clean[numeric_cols].median())\n"
   ]
  },
  {
   "cell_type": "code",
   "execution_count": 75,
   "id": "48aabc2b-6ffb-4d06-8ca0-af589dbcc04c",
   "metadata": {},
   "outputs": [
    {
     "name": "stdout",
     "output_type": "stream",
     "text": [
      "<class 'pandas.core.frame.DataFrame'>\n",
      "RangeIndex: 39717 entries, 0 to 39716\n",
      "Data columns (total 50 columns):\n",
      " #   Column                      Non-Null Count  Dtype  \n",
      "---  ------                      --------------  -----  \n",
      " 0   loan_amnt                   39717 non-null  int64  \n",
      " 1   funded_amnt                 39717 non-null  int64  \n",
      " 2   funded_amnt_inv             39717 non-null  float64\n",
      " 3   term                        39717 non-null  object \n",
      " 4   int_rate                    39717 non-null  object \n",
      " 5   installment                 39717 non-null  float64\n",
      " 6   grade                       39717 non-null  object \n",
      " 7   sub_grade                   39717 non-null  object \n",
      " 8   emp_title                   37258 non-null  object \n",
      " 9   emp_length                  38642 non-null  object \n",
      " 10  home_ownership              39717 non-null  object \n",
      " 11  annual_inc                  39717 non-null  float64\n",
      " 12  verification_status         39717 non-null  object \n",
      " 13  issue_d                     39717 non-null  object \n",
      " 14  loan_status                 39717 non-null  object \n",
      " 15  pymnt_plan                  39717 non-null  object \n",
      " 16  purpose                     39717 non-null  object \n",
      " 17  title                       39706 non-null  object \n",
      " 18  zip_code                    39717 non-null  object \n",
      " 19  addr_state                  39717 non-null  object \n",
      " 20  dti                         39717 non-null  float64\n",
      " 21  delinq_2yrs                 39717 non-null  int64  \n",
      " 22  earliest_cr_line            39717 non-null  object \n",
      " 23  inq_last_6mths              39717 non-null  int64  \n",
      " 24  open_acc                    39717 non-null  int64  \n",
      " 25  pub_rec                     39717 non-null  int64  \n",
      " 26  revol_bal                   39717 non-null  int64  \n",
      " 27  revol_util                  39667 non-null  object \n",
      " 28  total_acc                   39717 non-null  int64  \n",
      " 29  initial_list_status         39717 non-null  object \n",
      " 30  out_prncp                   39717 non-null  float64\n",
      " 31  out_prncp_inv               39717 non-null  float64\n",
      " 32  total_pymnt                 39717 non-null  float64\n",
      " 33  total_pymnt_inv             39717 non-null  float64\n",
      " 34  total_rec_prncp             39717 non-null  float64\n",
      " 35  total_rec_int               39717 non-null  float64\n",
      " 36  total_rec_late_fee          39717 non-null  float64\n",
      " 37  recoveries                  39717 non-null  float64\n",
      " 38  collection_recovery_fee     39717 non-null  float64\n",
      " 39  last_pymnt_d                39646 non-null  object \n",
      " 40  last_pymnt_amnt             39717 non-null  float64\n",
      " 41  last_credit_pull_d          39715 non-null  object \n",
      " 42  collections_12_mths_ex_med  39717 non-null  float64\n",
      " 43  policy_code                 39717 non-null  int64  \n",
      " 44  application_type            39717 non-null  object \n",
      " 45  acc_now_delinq              39717 non-null  int64  \n",
      " 46  chargeoff_within_12_mths    39717 non-null  float64\n",
      " 47  delinq_amnt                 39717 non-null  int64  \n",
      " 48  pub_rec_bankruptcies        39717 non-null  float64\n",
      " 49  tax_liens                   39717 non-null  float64\n",
      "dtypes: float64(18), int64(11), object(21)\n",
      "memory usage: 15.2+ MB\n"
     ]
    }
   ],
   "source": [
    "loan_data_clean.info()"
   ]
  },
  {
   "cell_type": "markdown",
   "id": "fd03ede5-90ec-43f5-9b3b-c5486e6df653",
   "metadata": {},
   "source": [
    "#### 4.2 Missing Data:\n",
    "- Remaining columns with missing data:\n",
    "    - emp_title\n",
    "    - emp_length\n",
    "    - title\n",
    "    - revol_util\n",
    "    - last_pymnt_d\n",
    "    - last_credit_pull_d\n",
    "\n",
    "<br />\n",
    "These columns should be further reviewed to decide on imputations or removals, depending on their relevance.\n"
   ]
  },
  {
   "cell_type": "markdown",
   "id": "6d801d6d-9159-407f-b8a1-ce4ce78226dd",
   "metadata": {},
   "source": [
    "#### 4.3 Data Type Conversions:"
   ]
  },
  {
   "cell_type": "code",
   "execution_count": 76,
   "id": "1e9aaad3-4770-4238-b1b4-9b7f2478af1f",
   "metadata": {},
   "outputs": [],
   "source": [
    "loan_data_clean['int_rate'] = loan_data_clean['int_rate'].str.replace('%', '').astype(float)"
   ]
  },
  {
   "cell_type": "code",
   "execution_count": 77,
   "id": "5067fa86-6dd0-4d5e-beb8-23fc1c85f7ab",
   "metadata": {},
   "outputs": [],
   "source": [
    "loan_data_clean['term'] = loan_data_clean['term'].apply(lambda x: int(x.split()[0]))"
   ]
  },
  {
   "cell_type": "code",
   "execution_count": 78,
   "id": "6a37a719-a114-4b66-bea8-a9489809b614",
   "metadata": {},
   "outputs": [],
   "source": [
    "loan_data_clean['grade'] = loan_data_clean['grade'].astype('category')"
   ]
  },
  {
   "cell_type": "code",
   "execution_count": 79,
   "id": "e6f802f8-914d-45f1-b51d-11623ce309b7",
   "metadata": {},
   "outputs": [],
   "source": [
    "loan_data_clean['loan_status'] = loan_data_clean['loan_status'].astype('category')"
   ]
  },
  {
   "cell_type": "markdown",
   "id": "bd2a730a-cea3-426c-8098-79f4e2a432dc",
   "metadata": {},
   "source": [
    "- The `int_rate` column was successfully converted from a string to a float.\n",
    "- Columns like `term`, `grade`, and `loan_status` were converted to appropriate types (integer or category)."
   ]
  },
  {
   "cell_type": "code",
   "execution_count": 81,
   "id": "b28ccaec-53ca-45b2-b798-ac2acb829dbe",
   "metadata": {},
   "outputs": [
    {
     "name": "stdout",
     "output_type": "stream",
     "text": [
      "<class 'pandas.core.frame.DataFrame'>\n",
      "RangeIndex: 39717 entries, 0 to 39716\n",
      "Data columns (total 50 columns):\n",
      " #   Column                      Non-Null Count  Dtype   \n",
      "---  ------                      --------------  -----   \n",
      " 0   loan_amnt                   39717 non-null  int64   \n",
      " 1   funded_amnt                 39717 non-null  int64   \n",
      " 2   funded_amnt_inv             39717 non-null  float64 \n",
      " 3   term                        39717 non-null  int64   \n",
      " 4   int_rate                    39717 non-null  float64 \n",
      " 5   installment                 39717 non-null  float64 \n",
      " 6   grade                       39717 non-null  category\n",
      " 7   sub_grade                   39717 non-null  object  \n",
      " 8   emp_title                   37258 non-null  object  \n",
      " 9   emp_length                  38642 non-null  object  \n",
      " 10  home_ownership              39717 non-null  object  \n",
      " 11  annual_inc                  39717 non-null  float64 \n",
      " 12  verification_status         39717 non-null  object  \n",
      " 13  issue_d                     39717 non-null  object  \n",
      " 14  loan_status                 39717 non-null  category\n",
      " 15  pymnt_plan                  39717 non-null  object  \n",
      " 16  purpose                     39717 non-null  object  \n",
      " 17  title                       39706 non-null  object  \n",
      " 18  zip_code                    39717 non-null  object  \n",
      " 19  addr_state                  39717 non-null  object  \n",
      " 20  dti                         39717 non-null  float64 \n",
      " 21  delinq_2yrs                 39717 non-null  int64   \n",
      " 22  earliest_cr_line            39717 non-null  object  \n",
      " 23  inq_last_6mths              39717 non-null  int64   \n",
      " 24  open_acc                    39717 non-null  int64   \n",
      " 25  pub_rec                     39717 non-null  int64   \n",
      " 26  revol_bal                   39717 non-null  int64   \n",
      " 27  revol_util                  39667 non-null  object  \n",
      " 28  total_acc                   39717 non-null  int64   \n",
      " 29  initial_list_status         39717 non-null  object  \n",
      " 30  out_prncp                   39717 non-null  float64 \n",
      " 31  out_prncp_inv               39717 non-null  float64 \n",
      " 32  total_pymnt                 39717 non-null  float64 \n",
      " 33  total_pymnt_inv             39717 non-null  float64 \n",
      " 34  total_rec_prncp             39717 non-null  float64 \n",
      " 35  total_rec_int               39717 non-null  float64 \n",
      " 36  total_rec_late_fee          39717 non-null  float64 \n",
      " 37  recoveries                  39717 non-null  float64 \n",
      " 38  collection_recovery_fee     39717 non-null  float64 \n",
      " 39  last_pymnt_d                39646 non-null  object  \n",
      " 40  last_pymnt_amnt             39717 non-null  float64 \n",
      " 41  last_credit_pull_d          39715 non-null  object  \n",
      " 42  collections_12_mths_ex_med  39717 non-null  float64 \n",
      " 43  policy_code                 39717 non-null  int64   \n",
      " 44  application_type            39717 non-null  object  \n",
      " 45  acc_now_delinq              39717 non-null  int64   \n",
      " 46  chargeoff_within_12_mths    39717 non-null  float64 \n",
      " 47  delinq_amnt                 39717 non-null  int64   \n",
      " 48  pub_rec_bankruptcies        39717 non-null  float64 \n",
      " 49  tax_liens                   39717 non-null  float64 \n",
      "dtypes: category(2), float64(19), int64(12), object(17)\n",
      "memory usage: 14.6+ MB\n"
     ]
    }
   ],
   "source": [
    "cleaned_data_info = loan_data_clean.info()\n",
    "cleaned_data_info"
   ]
  },
  {
   "cell_type": "code",
   "execution_count": 82,
   "id": "94041a7f-9ec1-4d4a-9d67-4ed0c389066f",
   "metadata": {},
   "outputs": [
    {
     "data": {
      "text/plain": [
       "emp_title              2459\n",
       "emp_length             1075\n",
       "last_pymnt_d             71\n",
       "revol_util               50\n",
       "title                    11\n",
       "last_credit_pull_d        2\n",
       "recoveries                0\n",
       "initial_list_status       0\n",
       "out_prncp                 0\n",
       "out_prncp_inv             0\n",
       "dtype: int64"
      ]
     },
     "execution_count": 82,
     "metadata": {},
     "output_type": "execute_result"
    }
   ],
   "source": [
    "remaining_missing = loan_data_clean.isnull().sum().sort_values(ascending=False)\n",
    "remaining_missing.head(10)"
   ]
  },
  {
   "cell_type": "code",
   "execution_count": 83,
   "id": "a616e4e8-d80d-4981-912d-17fd9044b960",
   "metadata": {},
   "outputs": [],
   "source": [
    "loan_data_clean = loan_data_clean.drop(columns=['emp_title', 'emp_length'])"
   ]
  },
  {
   "cell_type": "code",
   "execution_count": 84,
   "id": "cd4e0af2-0bc4-4b37-8809-9c71376e6c2c",
   "metadata": {},
   "outputs": [
    {
     "data": {
      "text/plain": [
       "last_pymnt_d           71\n",
       "revol_util             50\n",
       "title                  11\n",
       "last_credit_pull_d      2\n",
       "loan_amnt               0\n",
       "total_rec_late_fee      0\n",
       "initial_list_status     0\n",
       "out_prncp               0\n",
       "out_prncp_inv           0\n",
       "total_pymnt             0\n",
       "dtype: int64"
      ]
     },
     "execution_count": 84,
     "metadata": {},
     "output_type": "execute_result"
    }
   ],
   "source": [
    "remaining_missing = loan_data_clean.isnull().sum().sort_values(ascending=False)\n",
    "remaining_missing.head(10)"
   ]
  },
  {
   "cell_type": "markdown",
   "id": "0ae613b1-a525-46ea-a58a-fb5048999cab",
   "metadata": {},
   "source": [
    "### Step 5: Handling Outliers"
   ]
  },
  {
   "cell_type": "markdown",
   "id": "30ac5741-c30d-4425-b244-258ffbed06b3",
   "metadata": {},
   "source": [
    "Using visualization techniques like box plots and histograms to spot outliers in key numeric columns such as loan_amnt, int_rate, annual_inc, and dti"
   ]
  },
  {
   "cell_type": "code",
   "execution_count": 86,
   "id": "be79165b-ed97-452c-8d63-09058a115979",
   "metadata": {},
   "outputs": [],
   "source": [
    "import matplotlib.pyplot as plt\n",
    "import seaborn as sns"
   ]
  },
  {
   "cell_type": "code",
   "execution_count": 91,
   "id": "2be523c5-55d4-4bee-a7f6-08b22d6a62e7",
   "metadata": {},
   "outputs": [
    {
     "data": {
      "image/png": "[encoded data removed]",
      "text/plain": [
       "<Figure size 1400x1000 with 4 Axes>"
      ]
     },
     "metadata": {},
     "output_type": "display_data"
    }
   ],
   "source": [
    "fig, axes = plt.subplots(2, 2, figsize=(14, 10))\n",
    "\n",
    "# Loan Amount\n",
    "sns.boxplot(x=loan_data_clean['loan_amnt'], ax=axes[0, 0])\n",
    "axes[0, 0].set_title('Loan Amount')\n",
    "\n",
    "# Interest Rate\n",
    "sns.boxplot(x=loan_data_clean['int_rate'], ax=axes[0, 1])\n",
    "axes[0, 1].set_title('Interest Rate')\n",
    "\n",
    "# Annual Income\n",
    "sns.boxplot(x=loan_data_clean['annual_inc'], ax=axes[1, 0])\n",
    "axes[1, 0].set_title('Annual Income')\n",
    "\n",
    "# Debt-to-Income Ratio\n",
    "sns.boxplot(x=loan_data_clean['dti'], ax=axes[1, 1])\n",
    "axes[1, 1].set_title('Debt-to-Income Ratio')\n",
    "\n",
    "\n",
    "plt.tight_layout()\n",
    "plt.show()\n"
   ]
  },
  {
   "cell_type": "code",
   "execution_count": 97,
   "id": "73718e30-8928-413c-bcc7-0942467d670f",
   "metadata": {},
   "outputs": [
    {
     "data": {
      "text/plain": [
       "loan_amnt                      9500.00000\n",
       "funded_amnt                    9600.00000\n",
       "funded_amnt_inv                9400.00000\n",
       "term                             24.00000\n",
       "int_rate                          5.34000\n",
       "installment                     263.76000\n",
       "annual_inc                    41896.00000\n",
       "dti                              10.43000\n",
       "delinq_2yrs                       0.00000\n",
       "inq_last_6mths                    1.00000\n",
       "open_acc                          6.00000\n",
       "pub_rec                           0.00000\n",
       "revol_bal                     13355.00000\n",
       "total_acc                        16.00000\n",
       "out_prncp                         0.00000\n",
       "out_prncp_inv                     0.00000\n",
       "total_pymnt                   10957.50304\n",
       "total_pymnt_inv               10686.50000\n",
       "total_rec_prncp                9053.26000\n",
       "total_rec_int                  2171.22000\n",
       "total_rec_late_fee                0.00000\n",
       "recoveries                        0.00000\n",
       "collection_recovery_fee           0.00000\n",
       "last_pymnt_amnt                3074.48000\n",
       "collections_12_mths_ex_med        0.00000\n",
       "policy_code                       0.00000\n",
       "acc_now_delinq                    0.00000\n",
       "chargeoff_within_12_mths          0.00000\n",
       "delinq_amnt                       0.00000\n",
       "pub_rec_bankruptcies              0.00000\n",
       "tax_liens                         0.00000\n",
       "dtype: float64"
      ]
     },
     "execution_count": 97,
     "metadata": {},
     "output_type": "execute_result"
    }
   ],
   "source": [
    "numeric_cols = loan_data_clean.select_dtypes(include=['float64', 'int64']).columns\n",
    "\n",
    "Q1 = loan_data_clean[numeric_cols].quantile(0.25)\n",
    "Q3 = loan_data_clean[numeric_cols].quantile(0.75)\n",
    "IQR = Q3 - Q1\n",
    "IQR"
   ]
  },
  {
   "cell_type": "markdown",
   "id": "1792c5d0-e910-42a5-b26c-8d1af07d1851",
   "metadata": {},
   "source": [
    " Remove extreme outliers (values outside of 1.5 * IQR range)."
   ]
  },
  {
   "cell_type": "code",
   "execution_count": 102,
   "id": "3d7d73e0-5b37-4c52-83d4-db40a686dd57",
   "metadata": {},
   "outputs": [
    {
     "name": "stdout",
     "output_type": "stream",
     "text": [
      "<class 'pandas.core.frame.DataFrame'>\n",
      "Index: 19264 entries, 0 to 39714\n",
      "Data columns (total 48 columns):\n",
      " #   Column                      Non-Null Count  Dtype   \n",
      "---  ------                      --------------  -----   \n",
      " 0   loan_amnt                   19264 non-null  int64   \n",
      " 1   funded_amnt                 19264 non-null  int64   \n",
      " 2   funded_amnt_inv             19264 non-null  float64 \n",
      " 3   term                        19264 non-null  int64   \n",
      " 4   int_rate                    19264 non-null  float64 \n",
      " 5   installment                 19264 non-null  float64 \n",
      " 6   grade                       19264 non-null  category\n",
      " 7   sub_grade                   19264 non-null  object  \n",
      " 8   home_ownership              19264 non-null  object  \n",
      " 9   annual_inc                  19264 non-null  float64 \n",
      " 10  verification_status         19264 non-null  object  \n",
      " 11  issue_d                     19264 non-null  object  \n",
      " 12  loan_status                 19264 non-null  category\n",
      " 13  pymnt_plan                  19264 non-null  object  \n",
      " 14  purpose                     19264 non-null  object  \n",
      " 15  title                       19258 non-null  object  \n",
      " 16  zip_code                    19264 non-null  object  \n",
      " 17  addr_state                  19264 non-null  object  \n",
      " 18  dti                         19264 non-null  float64 \n",
      " 19  delinq_2yrs                 19264 non-null  int64   \n",
      " 20  earliest_cr_line            19264 non-null  object  \n",
      " 21  inq_last_6mths              19264 non-null  int64   \n",
      " 22  open_acc                    19264 non-null  int64   \n",
      " 23  pub_rec                     19264 non-null  int64   \n",
      " 24  revol_bal                   19264 non-null  int64   \n",
      " 25  revol_util                  19238 non-null  object  \n",
      " 26  total_acc                   19264 non-null  int64   \n",
      " 27  initial_list_status         19264 non-null  object  \n",
      " 28  out_prncp                   19264 non-null  float64 \n",
      " 29  out_prncp_inv               19264 non-null  float64 \n",
      " 30  total_pymnt                 19264 non-null  float64 \n",
      " 31  total_pymnt_inv             19264 non-null  float64 \n",
      " 32  total_rec_prncp             19264 non-null  float64 \n",
      " 33  total_rec_int               19264 non-null  float64 \n",
      " 34  total_rec_late_fee          19264 non-null  float64 \n",
      " 35  recoveries                  19264 non-null  float64 \n",
      " 36  collection_recovery_fee     19264 non-null  float64 \n",
      " 37  last_pymnt_d                19255 non-null  object  \n",
      " 38  last_pymnt_amnt             19264 non-null  float64 \n",
      " 39  last_credit_pull_d          19263 non-null  object  \n",
      " 40  collections_12_mths_ex_med  19264 non-null  float64 \n",
      " 41  policy_code                 19264 non-null  int64   \n",
      " 42  application_type            19264 non-null  object  \n",
      " 43  acc_now_delinq              19264 non-null  int64   \n",
      " 44  chargeoff_within_12_mths    19264 non-null  float64 \n",
      " 45  delinq_amnt                 19264 non-null  int64   \n",
      " 46  pub_rec_bankruptcies        19264 non-null  float64 \n",
      " 47  tax_liens                   19264 non-null  float64 \n",
      "dtypes: category(2), float64(19), int64(12), object(15)\n",
      "memory usage: 6.9+ MB\n"
     ]
    }
   ],
   "source": [
    "loan_data_clean = loan_data_clean[\n",
    "    ~(\n",
    "        (loan_data_clean[numeric_cols] < (Q1 - 1.5 * IQR)) |\n",
    "        (loan_data_clean[numeric_cols] > (Q3 + 1.5 * IQR))\n",
    "    ).any(axis=1)\n",
    "]\n",
    "loan_data_clean.info()"
   ]
  },
  {
   "cell_type": "markdown",
   "id": "b53d581d-3608-4b33-a83e-44e0c5ea1be4",
   "metadata": {},
   "source": [
    "Handleing remaining missing values"
   ]
  },
  {
   "cell_type": "code",
   "execution_count": 103,
   "id": "39dd1eaa-a6a5-4615-8b22-454d8b940f2a",
   "metadata": {},
   "outputs": [
    {
     "data": {
      "text/plain": [
       "revol_util             26\n",
       "last_pymnt_d            9\n",
       "title                   6\n",
       "last_credit_pull_d      1\n",
       "loan_amnt               0\n",
       "total_rec_late_fee      0\n",
       "initial_list_status     0\n",
       "out_prncp               0\n",
       "out_prncp_inv           0\n",
       "total_pymnt             0\n",
       "dtype: int64"
      ]
     },
     "execution_count": 103,
     "metadata": {},
     "output_type": "execute_result"
    }
   ],
   "source": [
    "remaining_missing = loan_data_clean.isnull().sum().sort_values(ascending=False)\n",
    "remaining_missing.head(10)"
   ]
  },
  {
   "cell_type": "code",
   "execution_count": 104,
   "id": "c7477968-abf0-4ec4-a57a-b73a1b717fcd",
   "metadata": {},
   "outputs": [],
   "source": [
    "# For categorical columns (object types), fill missing values with the mode\n",
    "categorical_cols = loan_data_clean.select_dtypes(include=['object', 'category']).columns\n",
    "loan_data_clean[categorical_cols] = loan_data_clean[categorical_cols].fillna(loan_data_clean[categorical_cols].mode().iloc[0])\n"
   ]
  },
  {
   "cell_type": "code",
   "execution_count": 105,
   "id": "d0492367-e36e-4c78-9df2-3646de5c32aa",
   "metadata": {},
   "outputs": [
    {
     "data": {
      "text/plain": [
       "loan_amnt              0\n",
       "funded_amnt            0\n",
       "total_acc              0\n",
       "initial_list_status    0\n",
       "out_prncp              0\n",
       "out_prncp_inv          0\n",
       "total_pymnt            0\n",
       "total_pymnt_inv        0\n",
       "total_rec_prncp        0\n",
       "total_rec_int          0\n",
       "dtype: int64"
      ]
     },
     "execution_count": 105,
     "metadata": {},
     "output_type": "execute_result"
    }
   ],
   "source": [
    "remaining_missing = loan_data_clean.isnull().sum().sort_values(ascending=False)\n",
    "remaining_missing.head(10)"
   ]
  },
  {
   "cell_type": "code",
   "execution_count": 106,
   "id": "d6a3c595-e36d-41e7-9315-32aef45555cf",
   "metadata": {},
   "outputs": [],
   "source": [
    "# For numeric columns (float64 and int64 types), fill missing values with the median\n",
    "# numeric_cols = loan_data_clean.select_dtypes(include=['float64', 'int64']).columns\n",
    "# loan_data_clean[numeric_cols] = loan_data_clean[numeric_cols].fillna(loan_data_clean[numeric_cols].median())\n"
   ]
  },
  {
   "cell_type": "code",
   "execution_count": null,
   "id": "ee2adb7d-2add-4ab5-b70c-bcb733095c6c",
   "metadata": {},
   "outputs": [],
   "source": []
  },
  {
   "cell_type": "code",
   "execution_count": null,
   "id": "810af485-c8da-4e31-a90c-edf81d47db62",
   "metadata": {},
   "outputs": [],
   "source": []
  },
  {
   "cell_type": "code",
   "execution_count": null,
   "id": "ce16f82b-7ac6-4b35-880f-6063364013c1",
   "metadata": {},
   "outputs": [],
   "source": []
  },
  {
   "cell_type": "code",
   "execution_count": null,
   "id": "b157b23e-4777-4e55-a120-79cb720ae396",
   "metadata": {},
   "outputs": [],
   "source": []
  },
  {
   "cell_type": "code",
   "execution_count": null,
   "id": "320b9fd9-a5fa-43e0-8915-2f5dc342b9e5",
   "metadata": {},
   "outputs": [],
   "source": []
  },
  {
   "cell_type": "code",
   "execution_count": null,
   "id": "87c04a9e-7667-4b1f-b5d6-bfbaf3c648d1",
   "metadata": {},
   "outputs": [],
   "source": []
  },
  {
   "cell_type": "code",
   "execution_count": null,
   "id": "d95d6ff1-9df1-46ec-af35-532d140dfd1c",
   "metadata": {},
   "outputs": [],
   "source": []
  },
  {
   "cell_type": "code",
   "execution_count": null,
   "id": "b28044c5-f9af-49ed-b1d2-fae0341dfddd",
   "metadata": {},
   "outputs": [],
   "source": []
  },
  {
   "cell_type": "code",
   "execution_count": null,
   "id": "2e21e1d8-22ce-426b-9548-6bfd1df312ec",
   "metadata": {},
   "outputs": [],
   "source": []
  },
  {
   "cell_type": "code",
   "execution_count": null,
   "id": "e0110ff0-13d7-4902-99ae-eaafeec9d8cd",
   "metadata": {},
   "outputs": [],
   "source": []
  },
  {
   "cell_type": "code",
   "execution_count": null,
   "id": "9a3182f2-6478-46ab-b3ae-29a6ecaa2fe6",
   "metadata": {},
   "outputs": [],
   "source": []
  },
  {
   "cell_type": "code",
   "execution_count": null,
   "id": "f2d733f8-0e4f-4817-ace3-641f36f6c753",
   "metadata": {},
   "outputs": [],
   "source": []
  },
  {
   "cell_type": "code",
   "execution_count": null,
   "id": "77fa552e-f09b-46b1-a7a9-490395f55f24",
   "metadata": {},
   "outputs": [],
   "source": []
  },
  {
   "cell_type": "code",
   "execution_count": null,
   "id": "fae9419f-8d96-439d-90c6-92053f2d0936",
   "metadata": {},
   "outputs": [],
   "source": []
  },
  {
   "cell_type": "code",
   "execution_count": null,
   "id": "15fdc6d0-c017-459d-830b-38f6047a2693",
   "metadata": {},
   "outputs": [],
   "source": []
  },
  {
   "cell_type": "code",
   "execution_count": null,
   "id": "263f6b34-0b7f-4f73-bed4-be10419ab0f8",
   "metadata": {},
   "outputs": [],
   "source": []
  },
  {
   "cell_type": "code",
   "execution_count": null,
   "id": "e1f54582-c823-4391-a262-ba6504e40747",
   "metadata": {},
   "outputs": [],
   "source": []
  },
  {
   "cell_type": "code",
   "execution_count": null,
   "id": "babf6048-820d-4fe0-b257-fc10031c3e2e",
   "metadata": {},
   "outputs": [],
   "source": []
  },
  {
   "cell_type": "code",
   "execution_count": null,
   "id": "873b092c-7411-4b3b-8537-a05b9f868e9f",
   "metadata": {},
   "outputs": [],
   "source": []
  },
  {
   "cell_type": "code",
   "execution_count": null,
   "id": "8e06be62-dcc1-4d7d-8522-253dd9dfb69d",
   "metadata": {},
   "outputs": [],
   "source": []
  },
  {
   "cell_type": "code",
   "execution_count": null,
   "id": "90fcea44-2221-4c3a-92e0-6f9e0fe21055",
   "metadata": {},
   "outputs": [],
   "source": []
  },
  {
   "cell_type": "code",
   "execution_count": null,
   "id": "e00e75e3-e5ea-4c00-843a-2f0d0e19c1c3",
   "metadata": {},
   "outputs": [],
   "source": []
  },
  {
   "cell_type": "code",
   "execution_count": null,
   "id": "b243595d-0233-4a57-ad8f-9eb49813cf2c",
   "metadata": {},
   "outputs": [],
   "source": []
  },
  {
   "cell_type": "code",
   "execution_count": null,
   "id": "b13e0e01-9945-4665-8187-1709e9c265a4",
   "metadata": {},
   "outputs": [],
   "source": []
  },
  {
   "cell_type": "markdown",
   "id": "22237377-87cf-49f8-af0c-f78c9709fc04",
   "metadata": {},
   "source": [
    "# WIP"
   ]
  },
  {
   "cell_type": "code",
   "execution_count": 1,
   "id": "1ce51ce8-7ee8-4d6f-b2ae-919a363b76d9",
   "metadata": {},
   "outputs": [],
   "source": [
    "import pandas as pd"
   ]
  },
  {
   "cell_type": "markdown",
   "id": "1a8e3594",
   "metadata": {},
   "source": []
  },
  {
   "cell_type": "markdown",
   "id": "65406f87",
   "metadata": {},
   "source": []
  },
  {
   "cell_type": "code",
   "execution_count": 2,
   "id": "1904898a-4ed9-42d5-b0a7-1d7d37fb7606",
   "metadata": {},
   "outputs": [
    {
     "name": "stderr",
     "output_type": "stream",
     "text": [
      "/var/folders/kk/xx0ydj0576xgclh1nd3hdlbr0000gn/T/ipykernel_87886/1341194358.py:3: DtypeWarning: Columns (47) have mixed types. Specify dtype option on import or set low_memory=False.\n",
      "  loan_data = pd.read_csv(file_path)\n"
     ]
    }
   ],
   "source": [
    "# Load the dataset\n",
    "file_path = './loan.csv'\n",
    "loan_data = pd.read_csv(file_path)"
   ]
  },
  {
   "cell_type": "code",
   "execution_count": 3,
   "id": "8c107677-77be-4022-b03a-b31144d0b19e",
   "metadata": {},
   "outputs": [
    {
     "data": {
      "text/html": [
       "<div>\n",
       "<style scoped>\n",
       "    .dataframe tbody tr th:only-of-type {\n",
       "        vertical-align: middle;\n",
       "    }\n",
       "\n",
       "    .dataframe tbody tr th {\n",
       "        vertical-align: top;\n",
       "    }\n",
       "\n",
       "    .dataframe thead th {\n",
       "        text-align: right;\n",
       "    }\n",
       "</style>\n",
       "<table border=\"1\" class=\"dataframe\">\n",
       "  <thead>\n",
       "    <tr style=\"text-align: right;\">\n",
       "      <th></th>\n",
       "      <th>id</th>\n",
       "      <th>member_id</th>\n",
       "      <th>loan_amnt</th>\n",
       "      <th>funded_amnt</th>\n",
       "      <th>funded_amnt_inv</th>\n",
       "      <th>term</th>\n",
       "      <th>int_rate</th>\n",
       "      <th>installment</th>\n",
       "      <th>grade</th>\n",
       "      <th>sub_grade</th>\n",
       "      <th>...</th>\n",
       "      <th>num_tl_90g_dpd_24m</th>\n",
       "      <th>num_tl_op_past_12m</th>\n",
       "      <th>pct_tl_nvr_dlq</th>\n",
       "      <th>percent_bc_gt_75</th>\n",
       "      <th>pub_rec_bankruptcies</th>\n",
       "      <th>tax_liens</th>\n",
       "      <th>tot_hi_cred_lim</th>\n",
       "      <th>total_bal_ex_mort</th>\n",
       "      <th>total_bc_limit</th>\n",
       "      <th>total_il_high_credit_limit</th>\n",
       "    </tr>\n",
       "  </thead>\n",
       "  <tbody>\n",
       "    <tr>\n",
       "      <th>0</th>\n",
       "      <td>1077501</td>\n",
       "      <td>1296599</td>\n",
       "      <td>5000</td>\n",
       "      <td>5000</td>\n",
       "      <td>4975.0</td>\n",
       "      <td>36 months</td>\n",
       "      <td>10.65%</td>\n",
       "      <td>162.87</td>\n",
       "      <td>B</td>\n",
       "      <td>B2</td>\n",
       "      <td>...</td>\n",
       "      <td>NaN</td>\n",
       "      <td>NaN</td>\n",
       "      <td>NaN</td>\n",
       "      <td>NaN</td>\n",
       "      <td>0.0</td>\n",
       "      <td>0.0</td>\n",
       "      <td>NaN</td>\n",
       "      <td>NaN</td>\n",
       "      <td>NaN</td>\n",
       "      <td>NaN</td>\n",
       "    </tr>\n",
       "    <tr>\n",
       "      <th>1</th>\n",
       "      <td>1077430</td>\n",
       "      <td>1314167</td>\n",
       "      <td>2500</td>\n",
       "      <td>2500</td>\n",
       "      <td>2500.0</td>\n",
       "      <td>60 months</td>\n",
       "      <td>15.27%</td>\n",
       "      <td>59.83</td>\n",
       "      <td>C</td>\n",
       "      <td>C4</td>\n",
       "      <td>...</td>\n",
       "      <td>NaN</td>\n",
       "      <td>NaN</td>\n",
       "      <td>NaN</td>\n",
       "      <td>NaN</td>\n",
       "      <td>0.0</td>\n",
       "      <td>0.0</td>\n",
       "      <td>NaN</td>\n",
       "      <td>NaN</td>\n",
       "      <td>NaN</td>\n",
       "      <td>NaN</td>\n",
       "    </tr>\n",
       "    <tr>\n",
       "      <th>2</th>\n",
       "      <td>1077175</td>\n",
       "      <td>1313524</td>\n",
       "      <td>2400</td>\n",
       "      <td>2400</td>\n",
       "      <td>2400.0</td>\n",
       "      <td>36 months</td>\n",
       "      <td>15.96%</td>\n",
       "      <td>84.33</td>\n",
       "      <td>C</td>\n",
       "      <td>C5</td>\n",
       "      <td>...</td>\n",
       "      <td>NaN</td>\n",
       "      <td>NaN</td>\n",
       "      <td>NaN</td>\n",
       "      <td>NaN</td>\n",
       "      <td>0.0</td>\n",
       "      <td>0.0</td>\n",
       "      <td>NaN</td>\n",
       "      <td>NaN</td>\n",
       "      <td>NaN</td>\n",
       "      <td>NaN</td>\n",
       "    </tr>\n",
       "    <tr>\n",
       "      <th>3</th>\n",
       "      <td>1076863</td>\n",
       "      <td>1277178</td>\n",
       "      <td>10000</td>\n",
       "      <td>10000</td>\n",
       "      <td>10000.0</td>\n",
       "      <td>36 months</td>\n",
       "      <td>13.49%</td>\n",
       "      <td>339.31</td>\n",
       "      <td>C</td>\n",
       "      <td>C1</td>\n",
       "      <td>...</td>\n",
       "      <td>NaN</td>\n",
       "      <td>NaN</td>\n",
       "      <td>NaN</td>\n",
       "      <td>NaN</td>\n",
       "      <td>0.0</td>\n",
       "      <td>0.0</td>\n",
       "      <td>NaN</td>\n",
       "      <td>NaN</td>\n",
       "      <td>NaN</td>\n",
       "      <td>NaN</td>\n",
       "    </tr>\n",
       "    <tr>\n",
       "      <th>4</th>\n",
       "      <td>1075358</td>\n",
       "      <td>1311748</td>\n",
       "      <td>3000</td>\n",
       "      <td>3000</td>\n",
       "      <td>3000.0</td>\n",
       "      <td>60 months</td>\n",
       "      <td>12.69%</td>\n",
       "      <td>67.79</td>\n",
       "      <td>B</td>\n",
       "      <td>B5</td>\n",
       "      <td>...</td>\n",
       "      <td>NaN</td>\n",
       "      <td>NaN</td>\n",
       "      <td>NaN</td>\n",
       "      <td>NaN</td>\n",
       "      <td>0.0</td>\n",
       "      <td>0.0</td>\n",
       "      <td>NaN</td>\n",
       "      <td>NaN</td>\n",
       "      <td>NaN</td>\n",
       "      <td>NaN</td>\n",
       "    </tr>\n",
       "  </tbody>\n",
       "</table>\n",
       "<p>5 rows × 111 columns</p>\n",
       "</div>"
      ],
      "text/plain": [
       "        id  member_id  loan_amnt  funded_amnt  funded_amnt_inv        term  \\\n",
       "0  1077501    1296599       5000         5000           4975.0   36 months   \n",
       "1  1077430    1314167       2500         2500           2500.0   60 months   \n",
       "2  1077175    1313524       2400         2400           2400.0   36 months   \n",
       "3  1076863    1277178      10000        10000          10000.0   36 months   \n",
       "4  1075358    1311748       3000         3000           3000.0   60 months   \n",
       "\n",
       "  int_rate  installment grade sub_grade  ... num_tl_90g_dpd_24m  \\\n",
       "0   10.65%       162.87     B        B2  ...                NaN   \n",
       "1   15.27%        59.83     C        C4  ...                NaN   \n",
       "2   15.96%        84.33     C        C5  ...                NaN   \n",
       "3   13.49%       339.31     C        C1  ...                NaN   \n",
       "4   12.69%        67.79     B        B5  ...                NaN   \n",
       "\n",
       "  num_tl_op_past_12m pct_tl_nvr_dlq  percent_bc_gt_75 pub_rec_bankruptcies  \\\n",
       "0                NaN            NaN               NaN                  0.0   \n",
       "1                NaN            NaN               NaN                  0.0   \n",
       "2                NaN            NaN               NaN                  0.0   \n",
       "3                NaN            NaN               NaN                  0.0   \n",
       "4                NaN            NaN               NaN                  0.0   \n",
       "\n",
       "  tax_liens tot_hi_cred_lim total_bal_ex_mort total_bc_limit  \\\n",
       "0       0.0             NaN               NaN            NaN   \n",
       "1       0.0             NaN               NaN            NaN   \n",
       "2       0.0             NaN               NaN            NaN   \n",
       "3       0.0             NaN               NaN            NaN   \n",
       "4       0.0             NaN               NaN            NaN   \n",
       "\n",
       "  total_il_high_credit_limit  \n",
       "0                        NaN  \n",
       "1                        NaN  \n",
       "2                        NaN  \n",
       "3                        NaN  \n",
       "4                        NaN  \n",
       "\n",
       "[5 rows x 111 columns]"
      ]
     },
     "execution_count": 3,
     "metadata": {},
     "output_type": "execute_result"
    }
   ],
   "source": [
    "loan_data.head()"
   ]
  },
  {
   "cell_type": "markdown",
   "id": "378c5afc-0396-4d19-910d-cd8bafccd146",
   "metadata": {},
   "source": [
    "## Here are some of the key columns that appear in the data:\n",
    "- id: Unique identifier for each loan.\n",
    "- member_id: Unique identifier for the borrower.\n",
    "- loan_amnt: The loan amount requested by the borrower.\n",
    "- funded_amnt: The actual loan amount funded by the lender.\n",
    "- term: The loan term (e.g., 36 months, 60 months).\n",
    "- int_rate: The interest rate on the loan.\n",
    "- installment: The monthly payment amount.\n",
    "- grade: Credit grade assigned to the loan (e.g., A, B, C).\n",
    "- sub_grade: More detailed credit grade (e.g., B2, C5).\n",
    "- num_tl_90g_dpd_24m: The number of trade lines with a 90+ days delinquency in the past 24 months.\n",
    "- pub_rec_bankruptcies: Number of public record bankruptcies."
   ]
  },
  {
   "cell_type": "code",
   "execution_count": 4,
   "id": "800ab9c7-86bb-4f44-b0e8-8fa190886d31",
   "metadata": {},
   "outputs": [],
   "source": [
    "data_dict_path = 'Data_Dictionary.xlsx'\n",
    "data_dictionary = pd.read_excel(data_dict_path)"
   ]
  },
  {
   "cell_type": "code",
   "execution_count": 6,
   "id": "20962590-a061-4c4a-9344-3ce5d6db2343",
   "metadata": {},
   "outputs": [
    {
     "data": {
      "text/html": [
       "<div>\n",
       "<style scoped>\n",
       "    .dataframe tbody tr th:only-of-type {\n",
       "        vertical-align: middle;\n",
       "    }\n",
       "\n",
       "    .dataframe tbody tr th {\n",
       "        vertical-align: top;\n",
       "    }\n",
       "\n",
       "    .dataframe thead th {\n",
       "        text-align: right;\n",
       "    }\n",
       "</style>\n",
       "<table border=\"1\" class=\"dataframe\">\n",
       "  <thead>\n",
       "    <tr style=\"text-align: right;\">\n",
       "      <th></th>\n",
       "      <th>LoanStatNew</th>\n",
       "      <th>Description</th>\n",
       "    </tr>\n",
       "  </thead>\n",
       "  <tbody>\n",
       "    <tr>\n",
       "      <th>0</th>\n",
       "      <td>acc_now_delinq</td>\n",
       "      <td>The number of accounts on which the borrower i...</td>\n",
       "    </tr>\n",
       "    <tr>\n",
       "      <th>1</th>\n",
       "      <td>acc_open_past_24mths</td>\n",
       "      <td>Number of trades opened in past 24 months.</td>\n",
       "    </tr>\n",
       "    <tr>\n",
       "      <th>2</th>\n",
       "      <td>addr_state</td>\n",
       "      <td>The state provided by the borrower in the loan...</td>\n",
       "    </tr>\n",
       "    <tr>\n",
       "      <th>3</th>\n",
       "      <td>all_util</td>\n",
       "      <td>Balance to credit limit on all trades</td>\n",
       "    </tr>\n",
       "    <tr>\n",
       "      <th>4</th>\n",
       "      <td>annual_inc</td>\n",
       "      <td>The self-reported annual income provided by th...</td>\n",
       "    </tr>\n",
       "  </tbody>\n",
       "</table>\n",
       "</div>"
      ],
      "text/plain": [
       "            LoanStatNew                                        Description\n",
       "0        acc_now_delinq  The number of accounts on which the borrower i...\n",
       "1  acc_open_past_24mths         Number of trades opened in past 24 months.\n",
       "2            addr_state  The state provided by the borrower in the loan...\n",
       "3              all_util              Balance to credit limit on all trades\n",
       "4            annual_inc  The self-reported annual income provided by th..."
      ]
     },
     "execution_count": 6,
     "metadata": {},
     "output_type": "execute_result"
    }
   ],
   "source": [
    "data_dictionary.head()"
   ]
  },
  {
   "cell_type": "code",
   "execution_count": null,
   "id": "60223405-8ef3-434c-bc38-94cc0bf77f33",
   "metadata": {},
   "outputs": [],
   "source": []
  }
 ],
 "metadata": {
  "kernelspec": {
   "display_name": "Python 3 (ipykernel)",
   "language": "python",
   "name": "python3"
  },
  "language_info": {
   "codemirror_mode": {
    "name": "ipython",
    "version": 3
   },
   "file_extension": ".py",
   "mimetype": "text/x-python",
   "name": "python",
   "nbconvert_exporter": "python",
   "pygments_lexer": "ipython3",
   "version": "3.12.4"
  }
 },
 "nbformat": 4,
 "nbformat_minor": 5
}
